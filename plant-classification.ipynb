{
 "cells": [
  {
   "cell_type": "markdown",
   "metadata": {},
   "source": [
    "# Plant image classification model\n",
    "This notebook will cover the steps of training and infering plant type from an image."
   ]
  },
  {
   "cell_type": "markdown",
   "metadata": {},
   "source": [
    "These are the steps in this notebook:\n",
    "1. Setup workspace\n",
    "2. Fetching the dataset\n",
    "3. Exploratory Data Analysis\n",
    "4. Training, Validation and Test Split"
   ]
  },
  {
   "cell_type": "markdown",
   "metadata": {},
   "source": [
    "## 1. Setup Workspace\n",
    "The first step to work clean, is to create a clean workspace. <br/>\n",
    "And download all the necessary files from pypi"
   ]
  },
  {
   "cell_type": "markdown",
   "metadata": {},
   "source": [
    "Don't forget to install all the necessary dependencies from `requirements.txt` file.\n",
    "using the command: `pip install -r requirements.txt`"
   ]
  },
  {
   "cell_type": "code",
   "execution_count": 42,
   "metadata": {},
   "outputs": [],
   "source": [
    "import os\n",
    "from enum import StrEnum\n",
    "from dataclasses import dataclass\n",
    "\n",
    "class Paths(StrEnum):\n",
    "    DATA = 'data'\n",
    "    OUTPUT = 'output'\n",
    "\n",
    "@dataclass\n",
    "class DatasetClass():\n",
    "    abs_path: str\n",
    "    count: int\n",
    "    images_dims: list[tuple] = None\n",
    "\n",
    "for folder_name in Paths:\n",
    "    os.makedirs(folder_name, exist_ok=True)\n",
    "\n",
    "DATASET_URL = 'https://storage.googleapis.com/download.tensorflow.org/example_images/flower_photos.tgz'\n",
    "DATASET_FILENAME = os.path.join(Paths.DATA, 'flower_photos.tgz')"
   ]
  },
  {
   "cell_type": "markdown",
   "metadata": {},
   "source": [
    "## 2. Fetching the dataset\n",
    "In this step we will fetch and extract the dataset to our filesystem for the following steps."
   ]
  },
  {
   "cell_type": "markdown",
   "metadata": {},
   "source": [
    "After we have created the workspace directories. We need to get some data. For that we will download the flower photos dataset from the given URL link (or you can download it manually from the tensorflow site)."
   ]
  },
  {
   "cell_type": "code",
   "execution_count": 3,
   "metadata": {},
   "outputs": [],
   "source": [
    "import requests\n",
    "from tqdm import tqdm\n",
    "\n",
    "def download(url: str, filename: str) -> None:\n",
    "    \"\"\"\n",
    "    Downloading a file and showing some indecation about the download using `tqdm`\n",
    "\n",
    "    Args:\n",
    "        `url: str` - The URL to download from the file\n",
    "        `filename: str` - The path to save the downloaded file in the machine\n",
    "    \"\"\"\n",
    "    with open(filename, 'wb') as f:\n",
    "        with requests.get(url, stream=True) as r:\n",
    "            r.raise_for_status()\n",
    "            total = int(r.headers.get('content-length', 0))\n",
    "\n",
    "            # tqdm has many interesting parameters. Feel free to experiment!\n",
    "            tqdm_params = {\n",
    "                'desc': url,\n",
    "                'total': total,\n",
    "                'miniters': 1,\n",
    "                'unit': 'B',\n",
    "                'unit_scale': True,\n",
    "                'unit_divisor': 1024,\n",
    "            }\n",
    "            \n",
    "            with tqdm.tqdm(**tqdm_params) as progress_bar:\n",
    "                for chunk in r.iter_content(chunk_size=8192):\n",
    "                    progress_bar.update(len(chunk))\n",
    "                    f.write(chunk)\n",
    "\n",
    "download(DATASET_URL, DATASET_FILENAME)"
   ]
  },
  {
   "cell_type": "markdown",
   "metadata": {},
   "source": [
    "Exctracting the dataset from the compressed file"
   ]
  },
  {
   "cell_type": "code",
   "execution_count": 4,
   "metadata": {},
   "outputs": [
    {
     "name": "stderr",
     "output_type": "stream",
     "text": [
      "Extracting:   0%|          | 0/3677 [00:00<?, ?file/s]C:\\Users\\user\\AppData\\Local\\Temp\\ipykernel_10300\\3578066170.py:17: DeprecationWarning: Python 3.14 will, by default, filter extracted tar archives and reject files or modify their metadata. Use the filter argument to control this behavior.\n",
      "  tar.extract(member, extraction_path)\n",
      "Extracting: 100%|██████████| 3677/3677 [00:18<00:00, 201.14file/s]\n"
     ]
    }
   ],
   "source": [
    "import tarfile\n",
    "from tarfile import TarInfo\n",
    "\n",
    "def extract_file(filename: str, extraction_path: str) -> None:\n",
    "    \"\"\"\n",
    "    Extracting all the contents of tarfile\n",
    "\n",
    "    Args:\n",
    "        `filename: str` - The path to the compressed tarfile\n",
    "        `extraction_path: str` - The path to the target directory which will contain the extracted contents\n",
    "    \"\"\"\n",
    "    with tarfile.open(filename, 'r:gz') as tar:\n",
    "        total_files: list[TarInfo] = tar.getmembers()\n",
    "\n",
    "        with tqdm(total=len(total_files), unit='file', desc='Extracting') as progress_bar:\n",
    "            for member in total_files:\n",
    "                tar.extract(member, extraction_path)\n",
    "                progress_bar.update(1)\n",
    "\n",
    "extract_file(os.path.join(Paths.DATA, 'flower_photos.tgz'), Paths.DATA)"
   ]
  },
  {
   "cell_type": "markdown",
   "metadata": {},
   "source": [
    "## 3. Exploratory Data Analysis\n",
    "In this step, we will plot the dataset and try to understand what it contains."
   ]
  },
  {
   "cell_type": "markdown",
   "metadata": {},
   "source": [
    "### Quantity\n",
    "Checking for the available classes in our dataset and checking whether they imbalanced"
   ]
  },
  {
   "cell_type": "code",
   "execution_count": 46,
   "metadata": {},
   "outputs": [
    {
     "data": {
      "text/plain": [
       "Text(0, 0.5, 'Images count')"
      ]
     },
     "execution_count": 46,
     "metadata": {},
     "output_type": "execute_result"
    },
    {
     "data": {
      "image/png": "[encoded data removed]",
      "text/plain": [
       "<Figure size 640x480 with 1 Axes>"
      ]
     },
     "metadata": {},
     "output_type": "display_data"
    }
   ],
   "source": [
    "import matplotlib.pyplot as plt\n",
    "\n",
    "DATASET_PARENT_PATH = os.path.join(Paths.DATA, 'flower_photos')\n",
    "contents = os.listdir(DATASET_PARENT_PATH)\n",
    "dataset_classes: dict[str, DatasetClass] = {}\n",
    "\n",
    "for filename in contents:\n",
    "    abs_path = os.path.join(DATASET_PARENT_PATH, filename)\n",
    "    if os.path.isdir(abs_path):\n",
    "        dataset_classes[filename] = DatasetClass(\n",
    "            abs_path=abs_path, \n",
    "            count=len(os.listdir(abs_path))\n",
    "        )\n",
    "\n",
    "# Extracting the count of each class from the nested object\n",
    "class_count: list[int] = [dataset_class.count for dataset_class in dataset_classes.values()]\n",
    "\n",
    "# Showing the plot\n",
    "plt.bar(dataset_classes.keys(), class_count)\n",
    "plt.title(\"Number of images by class\")\n",
    "plt.xlabel(\"Flower type\")\n",
    "plt.ylabel(\"Images count\")\n"
   ]
  },
  {
   "cell_type": "markdown",
   "metadata": {},
   "source": [
    "It's seems that the `dandelion` class is bigger than the others. Let's check by how much?"
   ]
  },
  {
   "cell_type": "code",
   "execution_count": 47,
   "metadata": {},
   "outputs": [
    {
     "name": "stdout",
     "output_type": "stream",
     "text": [
      "The smallest class count: 633\n",
      "The largest class count: 898\n",
      "In percentage: 29.51\n"
     ]
    }
   ],
   "source": [
    "min_class_count: int = min(class_count)\n",
    "max_class_count: int = max(class_count)\n",
    "\n",
    "print(f'The smallest class count: {min_class_count}')\n",
    "print(f'The largest class count: {max_class_count}')\n",
    "\n",
    "min_class_percent: float = (min_class_count * 100) / max_class_count\n",
    "print('In percentage: ' + \"{:.2f}\".format(100 - min_class_percent))"
   ]
  },
  {
   "cell_type": "markdown",
   "metadata": {},
   "source": [
    "It's nearly 30 percent !"
   ]
  },
  {
   "cell_type": "markdown",
   "metadata": {},
   "source": [
    "### Input layer size\n",
    "Plotting the dimensions of inputs (images)"
   ]
  },
  {
   "cell_type": "code",
   "execution_count": 54,
   "metadata": {},
   "outputs": [
    {
     "name": "stderr",
     "output_type": "stream",
     "text": [
      "C:\\Users\\user\\AppData\\Local\\Temp\\ipykernel_10300\\1675097614.py:59: UserWarning: FigureCanvasAgg is non-interactive, and thus cannot be shown\n",
      "  fig.show()\n"
     ]
    },
    {
     "data": {
      "image/png": "[encoded data removed]",
      "text/plain": [
       "<Figure size 640x480 with 5 Axes>"
      ]
     },
     "metadata": {},
     "output_type": "display_data"
    }
   ],
   "source": [
    "from PIL import Image\n",
    "import numpy as np\n",
    "\n",
    "def get_dims(file_path: str) -> tuple[int, int]:\n",
    "    \"\"\"\n",
    "    Returns dimenstions for an RBG image\n",
    "\n",
    "    Args:\n",
    "        `file_path: str` - The path to the target image\n",
    "\n",
    "    Returns:\n",
    "        Tuple contains the width and height of the image\n",
    "    \"\"\"\n",
    "    im = Image.open(file_path)\n",
    "    arr = np.array(im)\n",
    "    h,w,d = arr.shape\n",
    "    return w, h\n",
    "\n",
    "\n",
    "def batch_dimension_calc(folder_path: str) -> np.ndarray:\n",
    "    \"\"\"\n",
    "    Calculating dimensions of each image in the folder\n",
    "\n",
    "    Args:\n",
    "        `folder_path: str` - The path of the folder containing the images\n",
    "    \"\"\"\n",
    "    images_dims: list[tuple] = []\n",
    "\n",
    "    for image_path in os.listdir(folder_path):\n",
    "        image_rel_path: str = os.path.join(folder_path, image_path)\n",
    "        images_dims.append(get_dims(image_rel_path))\n",
    "\n",
    "    return np.array(images_dims)\n",
    "\n",
    "\n",
    "def plot_dimensions(axis: plt, dataset_class: DatasetClass) -> None:\n",
    "    \"\"\"\n",
    "    \"\"\"\n",
    "    width: list = []\n",
    "    height: list = []\n",
    "    for dims_tuple in dataset_class.images_dims:\n",
    "        width.append(dims_tuple[0])\n",
    "        height.append(dims_tuple[1])\n",
    "\n",
    "    axis.scatter(np.array(width), np.array(height))\n",
    "\n",
    "\n",
    "fig, axis = plt.subplots(len(dataset_classes.keys()))\n",
    "fig.suptitle(\"Image dimensions per class\")\n",
    "current_axis: int = 0\n",
    "\n",
    "# Calculating the dimensions of each image in each class\n",
    "for class_name in dataset_classes:\n",
    "    class_folder_path: str = dataset_classes[class_name].abs_path\n",
    "    dataset_classes[class_name].images_dims = batch_dimension_calc(class_folder_path)\n",
    "    plot_dimensions(axis[current_axis], dataset_classes[class_name])\n",
    "    current_axis += 1\n",
    "\n",
    "fig.show()"
   ]
  }
 ],
 "metadata": {
  "kernelspec": {
   "display_name": "venv",
   "language": "python",
   "name": "python3"
  },
  "language_info": {
   "codemirror_mode": {
    "name": "ipython",
    "version": 3
   },
   "file_extension": ".py",
   "mimetype": "text/x-python",
   "name": "python",
   "nbconvert_exporter": "python",
   "pygments_lexer": "ipython3",
   "version": "3.12.4"
  }
 },
 "nbformat": 4,
 "nbformat_minor": 2
}
