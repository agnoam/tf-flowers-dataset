{
 "cells": [
  {
   "cell_type": "markdown",
   "metadata": {},
   "source": [
    "# Plant image classification model\n",
    "This notebook will cover the steps of training and infering plant type from an image."
   ]
  },
  {
   "cell_type": "markdown",
   "metadata": {},
   "source": [
    "These are the steps in this notebook:\n",
    "1. Setup workspace"
   ]
  },
  {
   "cell_type": "markdown",
   "metadata": {},
   "source": [
    "The first step to work clean, is to create a clean workspace. <br/>\n",
    "And download all the necessary files from pypi"
   ]
  },
  {
   "cell_type": "code",
   "execution_count": 1,
   "metadata": {},
   "outputs": [],
   "source": [
    "import os\n",
    "from enum import StrEnum\n",
    "\n",
    "class Paths(StrEnum):\n",
    "    DATA = 'data'\n",
    "    OUTPUT = 'output'\n",
    "\n",
    "for folder_name in Paths:\n",
    "    os.makedirs(folder_name, exist_ok=True)"
   ]
  },
  {
   "cell_type": "markdown",
   "metadata": {},
   "source": [
    "After we have created the workspace directories. We need to get some data. For that we will download the flower photos dataset from the given URL link (or you can download it manually from the tensorflow site)."
   ]
  },
  {
   "cell_type": "code",
   "execution_count": 3,
   "metadata": {},
   "outputs": [],
   "source": [
    "import requests\n",
    "from tqdm import tqdm\n",
    "\n",
    "def download(url: str, filename: str) -> None:\n",
    "    \"\"\"\n",
    "    Downloading a file and showing some indecation about the download using `tqdm`\n",
    "\n",
    "    Args:\n",
    "        `url: str` - The URL to download from the file\n",
    "        `filename: str` - The path to save the downloaded file in the machine\n",
    "    \"\"\"\n",
    "    with open(filename, 'wb') as f:\n",
    "        with requests.get(url, stream=True) as r:\n",
    "            r.raise_for_status()\n",
    "            total = int(r.headers.get('content-length', 0))\n",
    "\n",
    "            # tqdm has many interesting parameters. Feel free to experiment!\n",
    "            tqdm_params = {\n",
    "                'desc': url,\n",
    "                'total': total,\n",
    "                'miniters': 1,\n",
    "                'unit': 'B',\n",
    "                'unit_scale': True,\n",
    "                'unit_divisor': 1024,\n",
    "            }\n",
    "            with tqdm.tqdm(**tqdm_params) as pb:\n",
    "                for chunk in r.iter_content(chunk_size=8192):\n",
    "                    pb.update(len(chunk))\n",
    "                    f.write(chunk)\n",
    "\n",
    "# DATASET_URL = 'https://storage.googleapis.com/download.tensorflow.org/example_images/flower_photos.tgz'\n",
    "# filename = os.path.join(Paths.DATA, 'flower_photos.tgz')\n",
    "# download(DATASET_URL, filename)"
   ]
  },
  {
   "cell_type": "markdown",
   "metadata": {},
   "source": [
    "Exctracting the dataset from the compressed file"
   ]
  },
  {
   "cell_type": "code",
   "execution_count": 4,
   "metadata": {},
   "outputs": [
    {
     "name": "stderr",
     "output_type": "stream",
     "text": [
      "Extracting:   0%|          | 0/3677 [00:00<?, ?file/s]C:\\Users\\user\\AppData\\Local\\Temp\\ipykernel_10300\\3578066170.py:17: DeprecationWarning: Python 3.14 will, by default, filter extracted tar archives and reject files or modify their metadata. Use the filter argument to control this behavior.\n",
      "  tar.extract(member, extraction_path)\n",
      "Extracting: 100%|██████████| 3677/3677 [00:18<00:00, 201.14file/s]\n"
     ]
    }
   ],
   "source": [
    "import tarfile\n",
    "from tarfile import TarInfo\n",
    "\n",
    "def extract_file(filename: str, extraction_path: str) -> None:\n",
    "    \"\"\"\n",
    "    Extracting all the contents of tarfile\n",
    "\n",
    "    Args:\n",
    "        `filename: str` - The path to the compressed tarfile\n",
    "        `extraction_path: str` - The path to the target directory which will contain the extracted contents\n",
    "    \"\"\"\n",
    "    with tarfile.open(filename, 'r:gz') as tar:\n",
    "        total_files: list[TarInfo] = tar.getmembers()\n",
    "\n",
    "        with tqdm(total=len(total_files), unit='file', desc='Extracting') as progress_bar:\n",
    "            for member in total_files:\n",
    "                tar.extract(member, extraction_path)\n",
    "                progress_bar.update(1)\n",
    "\n",
    "extract_file(os.path.join(Paths.DATA, 'flower_photos.tgz'), Paths.DATA)"
   ]
  }
 ],
 "metadata": {
  "kernelspec": {
   "display_name": "venv",
   "language": "python",
   "name": "python3"
  },
  "language_info": {
   "codemirror_mode": {
    "name": "ipython",
    "version": 3
   },
   "file_extension": ".py",
   "mimetype": "text/x-python",
   "name": "python",
   "nbconvert_exporter": "python",
   "pygments_lexer": "ipython3",
   "version": "3.12.4"
  }
 },
 "nbformat": 4,
 "nbformat_minor": 2
}
